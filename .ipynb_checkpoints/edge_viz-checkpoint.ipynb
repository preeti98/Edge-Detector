{
 "cells": [
  {
   "cell_type": "code",
   "execution_count": 1,
   "metadata": {},
   "outputs": [
    {
     "ename": "NameError",
     "evalue": "name 'load_model' is not defined",
     "output_type": "error",
     "traceback": [
      "\u001b[0;31m---------------------------------------------------------------------------\u001b[0m",
      "\u001b[0;31mNameError\u001b[0m                                 Traceback (most recent call last)",
      "\u001b[0;32m<ipython-input-1-6029a0944126>\u001b[0m in \u001b[0;36m<module>\u001b[0;34m()\u001b[0m\n\u001b[0;32m----> 1\u001b[0;31m \u001b[0munet\u001b[0m \u001b[0;34m=\u001b[0m \u001b[0mload_model\u001b[0m\u001b[0;34m(\u001b[0m\u001b[0;34m'unet2.keras'\u001b[0m\u001b[0;34m)\u001b[0m\u001b[0;34m\u001b[0m\u001b[0m\n\u001b[0m\u001b[1;32m      2\u001b[0m \u001b[0mtarget_size\u001b[0m\u001b[0;34m=\u001b[0m\u001b[0munet\u001b[0m\u001b[0;34m.\u001b[0m\u001b[0minput\u001b[0m\u001b[0;34m.\u001b[0m\u001b[0m__dict__\u001b[0m\u001b[0;34m[\u001b[0m\u001b[0;34m'_keras_shape'\u001b[0m\u001b[0;34m]\u001b[0m\u001b[0;34m[\u001b[0m\u001b[0;36m1\u001b[0m\u001b[0;34m:\u001b[0m\u001b[0;34m-\u001b[0m\u001b[0;36m1\u001b[0m\u001b[0;34m]\u001b[0m\u001b[0;34m\u001b[0m\u001b[0m\n\u001b[1;32m      3\u001b[0m \u001b[0mbsds\u001b[0m \u001b[0;34m=\u001b[0m \u001b[0mBSDS500\u001b[0m\u001b[0;34m(\u001b[0m\u001b[0mtarget_size\u001b[0m\u001b[0;34m=\u001b[0m\u001b[0mtarget_size\u001b[0m\u001b[0;34m,\u001b[0m \u001b[0mmasks_to_binary\u001b[0m\u001b[0;34m=\u001b[0m\u001b[0;32mFalse\u001b[0m\u001b[0;34m)\u001b[0m\u001b[0;34m\u001b[0m\u001b[0m\n\u001b[1;32m      4\u001b[0m \u001b[0mids\u001b[0m\u001b[0;34m,\u001b[0m \u001b[0mcnts\u001b[0m\u001b[0;34m,\u001b[0m \u001b[0msgmtns\u001b[0m\u001b[0;34m,\u001b[0m \u001b[0mimages\u001b[0m \u001b[0;34m=\u001b[0m \u001b[0mbsds\u001b[0m\u001b[0;34m.\u001b[0m\u001b[0mget_val\u001b[0m\u001b[0;34m(\u001b[0m\u001b[0;34m)\u001b[0m\u001b[0;34m\u001b[0m\u001b[0m\n",
      "\u001b[0;31mNameError\u001b[0m: name 'load_model' is not defined"
     ]
    }
   ],
   "source": [
    "unet = load_model('unet2.keras')\n",
    "target_size=unet.input.__dict__['_keras_shape'][1:-1]\n",
    "bsds = BSDS500(target_size=target_size, masks_to_binary=False)\n",
    "ids, cnts, sgmtns, images = bsds.get_val()"
   ]
  },
  {
   "cell_type": "code",
   "execution_count": null,
   "metadata": {},
   "outputs": [],
   "source": [
    "preds = unet.predict(images[:])\n",
    "preds = preds[:, :, :, 0]\n",
    "cnts_1d = cnts[:,:,0]\n",
    "images_uint8 = (images*255).round().astype('uint8')"
   ]
  },
  {
   "cell_type": "code",
   "execution_count": null,
   "metadata": {},
   "outputs": [],
   "source": [
    "f, axarr = plt.subplots(3, 4, figsize=(15,15))\n",
    "for i, (original, pred, blurr) in enumerate(list(zip(images, preds, images_uint8))[410:450:10]):\n",
    "    blurr = blurr_canny(blurr)\n",
    "    \n",
    "    orig_row = axarr[0, i]\n",
    "    orig_row.imshow(original)\n",
    "    orig_row.axis('off')\n",
    "  \n",
    "    pred_row = axarr[1, i]\n",
    "    pred_row.imshow(pred)\n",
    "    pred_row.axis('off')\n",
    "    \n",
    "    canny_row = axarr[2, i]\n",
    "    canny_row.imshow(blurr)\n",
    "    canny_row.axis('off')\n",
    "    \n",
    "    orig_row.set_title('original')\n",
    "    pred_row.set_title('deep edge prediction')\n",
    "    canny_row.set_title('canny edge detection')\n",
    "\n",
    "    plt.subplots_adjust(hspace=0, wspace=0.05)"
   ]
  },
  {
   "cell_type": "code",
   "execution_count": null,
   "metadata": {},
   "outputs": [],
   "source": [
    "plt.figure(figsize=(10,10))\n",
    "p, c = predict_custom_image(image=coins.astype(float), model=unet)\n",
    "\n",
    "\n",
    "plt.subplot(131)\n",
    "plt.axis('off')\n",
    "\n",
    "plt.imshow(resize(coins, (256,256)), cmap='gray')\n",
    "plt.title('coins orig')\n",
    "plt.subplot(132)\n",
    "plt.axis('off')\n",
    "\n",
    "plt.title('deep edge detection')\n",
    "plt.imshow(p)\n",
    "plt.subplot(133)\n",
    "plt.axis('off')\n",
    "\n",
    "plt.title('canny edge detection')\n",
    "plt.imshow(c)\n",
    "\n",
    "plt.axis('off')"
   ]
  },
  {
   "cell_type": "code",
   "execution_count": null,
   "metadata": {},
   "outputs": [],
   "source": [
    "p, c = predict_custom_image('paper.JPG', model=unet)"
   ]
  },
  {
   "cell_type": "code",
   "execution_count": null,
   "metadata": {},
   "outputs": [],
   "source": [
    "p, c = predict_custom_image('164461_Viator_Shutterstock_123713.jpg', model=unet)"
   ]
  },
  {
   "cell_type": "code",
   "execution_count": null,
   "metadata": {},
   "outputs": [],
   "source": [
    "p, c = predict_custom_image('IMG_20160929_132938.jpg', model=unet)"
   ]
  },
  {
   "cell_type": "code",
   "execution_count": null,
   "metadata": {},
   "outputs": [],
   "source": [
    "plt.figure(figsize=(12,12))\n",
    "plt.imshow(p)\n",
    "plt.axis('off')"
   ]
  }
 ],
 "metadata": {
  "kernelspec": {
   "display_name": "Python 3",
   "language": "python",
   "name": "python3"
  },
  "language_info": {
   "codemirror_mode": {
    "name": "ipython",
    "version": 3
   },
   "file_extension": ".py",
   "mimetype": "text/x-python",
   "name": "python",
   "nbconvert_exporter": "python",
   "pygments_lexer": "ipython3",
   "version": "3.5.6"
  }
 },
 "nbformat": 4,
 "nbformat_minor": 1
}
